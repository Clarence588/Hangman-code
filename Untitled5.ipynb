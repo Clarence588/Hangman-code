import random 

def run_hangman():
    #introduction
    print(''' Welcome to Hangman game
You should guess the name of a fruit, a movie, or a country to save the man.
Let's go !!! ''')

    #lists of the names of animals, fruits, countries
    animals = ["dog","cat","zebra","lion","tiger","snakes","parrot","turtle","fish","cow","giraffe","rat"]
    fruits = ["apple","banana","lemon","strawberry","mango","kiwi","pineapple"]
    countries = ["Lebanon","Egypt","Germany","Brazil","Canada","Australia", "France"]
    win_count = 0
    number_of_play = 0
    
    def gameplay():
        #asking the user for the type of word he/she wants to guess
        type_word = input("which one do you want to guess (animals/fruits/countries): ").lower()
        global word
        #choosing a random word from the choosen list
        while True:
            if type_word == "fruits":
                word = random.choice(fruits)
                break
            elif type_word == "countries":
                word = random.choice(countries).lower()
                break
            elif type_word == "animals":
                word = random.choice(animals)
                break
            else:
                print("check your spelling and try again!")
                type_word = input("which one do you want to guess (animals/fruits/countries): ").lower()
            print("")
        
        
        print("It is a word that has "+ str(len(word)) + " letters")
        
        #hangman figure
        hangman = [
        """
         ------
         |    |
         |
         |
         |
         |
         |
         |
         |
        ----------
        """,
        """
         ------
         |    |
         |    O
         |
         |
         |
         |
         |
         |
        ----------
        """,
        """
         ------
         |    |
         |    O
         |   -+-
         | 
         |   
         |   
         |   
         |   
        ----------
        """,
        """
         ------
         |    |
         |    O
         |   -+-
         |  /
         |   
         |   
         |   
         |   
        ----------
        """,
        """
         ------
         |    |
         |    O
         |   -+-/
         |  /
         |   
         |   
         |   
         |   
        ----------
        """,
        """
         ------
         |    |
         |    O
         |   -+-/
         |  / |
         |   
         |   
         |   
         |   
        ----------
        """,
        """
         ------
         |    |
         |    O
         |   -+-/
         |  / |
         |    |
         |   | 
         |   | 
         |   
        ----------
        """,
        """
         ------
         |    |
         |    O
         |   -+-/
         |  / |
         |    |
         |   | |
         |   | |
         |  
        ----------
        """]
        global wrong, sofar, max_wrong
        
        wrong = 0                         
        max_wrong = 7                      
        used = []                          
        so_far = ("-") * len(word)       
        
        print("")
        
        while wrong < max_wrong and so_far != word: 
            print(" ")
            print(hangman[wrong])                
            print("Word so far: " + so_far)       
            print("Letters used: " + str(used))   
          
            
            guess = input("Enter your guess: ").lower()
          
            
            while guess in used:
                print("--- Try again... You've already used this letter ---")
                print(" ")
                guess = input("Enter your guess: ").lower()
                print(" ")
          
            
            used.append(guess)
          
            # checking the answer (TRUE or FALSE)
            if guess in word:
                print("--- True ! " + guess + " is a letter of the word ---")
                print(" ")
            
               
                new = ""        
            
                for i in range(len(word)):  
                    
                    if guess == word[i]:
                        new += guess     
                    else:                   
                        new += so_far[i] 
            
                
                so_far = new 
            
            else:
                print("--- False ! Try again ! ---")
                wrong += 1   
    
    # gameplay function
    gameplay()
    
    while True:
        if wrong == max_wrong:
            print(" ")
            print("The word is " + word)
            print("You didn't save the man :( , YOU LOSE ! ")
            play_again = input("Do you want to play again: type no for quitting and yes to play again:") #ask if player want to play again
            number_of_play += 1
            if play_again == "yes":
                gameplay()
            elif play_again == "no":
                print("okay")
                print("this is a report")
                print("game plays",number_of_play)
                print("wins", win_count)
                break
                
        else:
            print(" ")
            print("Correct ! The word is " + word)
            print("You have saved the man :) , YOU WIN !")
            win_count += 1 #count the number of wins
            play_again = input("Do you want to play again: type no for quitting and yes to play again:") #ask if player want to play again
            number_of_play += 1
            if play_again == "yes":
                gameplay()
            elif play_again == "no":
                print("okay")
                print("this is a report")
                print("game plays",number_of_play)
                print("wins", win_count)
                break

# Call the function of the game
run_hangman()
