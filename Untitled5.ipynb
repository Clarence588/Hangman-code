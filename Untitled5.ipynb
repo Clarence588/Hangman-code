{
 "cells": [
  {
   "cell_type": "code",
   "execution_count": 12,
   "id": "c361baf5-ea71-44c0-a529-9050077b67f9",
   "metadata": {},
   "outputs": [
    {
     "name": "stdout",
     "output_type": "stream",
     "text": [
      " Welcome to Hangman game\n",
      "You should guess the name of a fruit,a movie or a country to save the man.\n",
      "Let's go !!! \n"
     ]
    },
    {
     "name": "stdin",
     "output_type": "stream",
     "text": [
      "which one do you want to guess (animals/fruits/countries):  animals\n"
     ]
    },
    {
     "name": "stdout",
     "output_type": "stream",
     "text": [
      "It is a word that has 5 letters\n",
      "\n",
      " \n",
      "\n",
      "     ------\n",
      "     |    |\n",
      "     |\n",
      "     |\n",
      "     |\n",
      "     |\n",
      "     |\n",
      "     |\n",
      "     |\n",
      "    ----------\n",
      "    \n",
      "Word so far: -----\n",
      "Letters used: []\n"
     ]
    },
    {
     "name": "stdin",
     "output_type": "stream",
     "text": [
      "Enter your guess:  z\n"
     ]
    },
    {
     "name": "stdout",
     "output_type": "stream",
     "text": [
      "--- False ! Try again ! ---\n",
      " \n",
      "\n",
      "     ------\n",
      "     |    |\n",
      "     |    O\n",
      "     |\n",
      "     |\n",
      "     |\n",
      "     |\n",
      "     |\n",
      "     |\n",
      "    ----------\n",
      "    \n",
      "Word so far: -----\n",
      "Letters used: ['z']\n"
     ]
    },
    {
     "name": "stdin",
     "output_type": "stream",
     "text": [
      "Enter your guess:  t\n"
     ]
    },
    {
     "name": "stdout",
     "output_type": "stream",
     "text": [
      "--- True ! t is a letter of the word ---\n",
      " \n",
      " \n",
      "\n",
      "     ------\n",
      "     |    |\n",
      "     |    O\n",
      "     |\n",
      "     |\n",
      "     |\n",
      "     |\n",
      "     |\n",
      "     |\n",
      "    ----------\n",
      "    \n",
      "Word so far: t----\n",
      "Letters used: ['z', 't']\n"
     ]
    },
    {
     "name": "stdin",
     "output_type": "stream",
     "text": [
      "Enter your guess:  i\n"
     ]
    },
    {
     "name": "stdout",
     "output_type": "stream",
     "text": [
      "--- True ! i is a letter of the word ---\n",
      " \n",
      " \n",
      "\n",
      "     ------\n",
      "     |    |\n",
      "     |    O\n",
      "     |\n",
      "     |\n",
      "     |\n",
      "     |\n",
      "     |\n",
      "     |\n",
      "    ----------\n",
      "    \n",
      "Word so far: ti---\n",
      "Letters used: ['z', 't', 'i']\n"
     ]
    },
    {
     "name": "stdin",
     "output_type": "stream",
     "text": [
      "Enter your guess:  ge\n"
     ]
    },
    {
     "name": "stdout",
     "output_type": "stream",
     "text": [
      "--- True ! ge is a letter of the word ---\n",
      " \n",
      " \n",
      "\n",
      "     ------\n",
      "     |    |\n",
      "     |    O\n",
      "     |\n",
      "     |\n",
      "     |\n",
      "     |\n",
      "     |\n",
      "     |\n",
      "    ----------\n",
      "    \n",
      "Word so far: ti---\n",
      "Letters used: ['z', 't', 'i', 'ge']\n"
     ]
    },
    {
     "name": "stdin",
     "output_type": "stream",
     "text": [
      "Enter your guess:  g\n"
     ]
    },
    {
     "name": "stdout",
     "output_type": "stream",
     "text": [
      "--- True ! g is a letter of the word ---\n",
      " \n",
      " \n",
      "\n",
      "     ------\n",
      "     |    |\n",
      "     |    O\n",
      "     |\n",
      "     |\n",
      "     |\n",
      "     |\n",
      "     |\n",
      "     |\n",
      "    ----------\n",
      "    \n",
      "Word so far: tig--\n",
      "Letters used: ['z', 't', 'i', 'ge', 'g']\n"
     ]
    },
    {
     "name": "stdin",
     "output_type": "stream",
     "text": [
      "Enter your guess:  e\n"
     ]
    },
    {
     "name": "stdout",
     "output_type": "stream",
     "text": [
      "--- True ! e is a letter of the word ---\n",
      " \n",
      " \n",
      "\n",
      "     ------\n",
      "     |    |\n",
      "     |    O\n",
      "     |\n",
      "     |\n",
      "     |\n",
      "     |\n",
      "     |\n",
      "     |\n",
      "    ----------\n",
      "    \n",
      "Word so far: tige-\n",
      "Letters used: ['z', 't', 'i', 'ge', 'g', 'e']\n"
     ]
    },
    {
     "name": "stdin",
     "output_type": "stream",
     "text": [
      "Enter your guess:  r\n"
     ]
    },
    {
     "name": "stdout",
     "output_type": "stream",
     "text": [
      "--- True ! r is a letter of the word ---\n",
      " \n",
      " \n",
      "Correct ! The word is tiger\n",
      "You have saved the man :) , YOU WIN !\n"
     ]
    },
    {
     "name": "stdin",
     "output_type": "stream",
     "text": [
      "Do you want to play again: type no for quitting and yes to play again: yes\n",
      "which one do you want to guess (animals/fruits/countries):  animals\n"
     ]
    },
    {
     "name": "stdout",
     "output_type": "stream",
     "text": [
      "It is a word that has 3 letters\n",
      "\n",
      " \n",
      "\n",
      "     ------\n",
      "     |    |\n",
      "     |\n",
      "     |\n",
      "     |\n",
      "     |\n",
      "     |\n",
      "     |\n",
      "     |\n",
      "    ----------\n",
      "    \n",
      "Word so far: ---\n",
      "Letters used: []\n"
     ]
    },
    {
     "name": "stdin",
     "output_type": "stream",
     "text": [
      "Enter your guess:  1\n"
     ]
    },
    {
     "name": "stdout",
     "output_type": "stream",
     "text": [
      "--- False ! Try again ! ---\n",
      " \n",
      "\n",
      "     ------\n",
      "     |    |\n",
      "     |    O\n",
      "     |\n",
      "     |\n",
      "     |\n",
      "     |\n",
      "     |\n",
      "     |\n",
      "    ----------\n",
      "    \n",
      "Word so far: ---\n",
      "Letters used: ['1']\n"
     ]
    },
    {
     "name": "stdin",
     "output_type": "stream",
     "text": [
      "Enter your guess:  2\n"
     ]
    },
    {
     "name": "stdout",
     "output_type": "stream",
     "text": [
      "--- False ! Try again ! ---\n",
      " \n",
      "\n",
      "     ------\n",
      "     |    |\n",
      "     |    O\n",
      "     |   -+-\n",
      "     | \n",
      "     |   \n",
      "     |   \n",
      "     |   \n",
      "     |   \n",
      "    ----------\n",
      "    \n",
      "Word so far: ---\n",
      "Letters used: ['1', '2']\n"
     ]
    },
    {
     "name": "stdin",
     "output_type": "stream",
     "text": [
      "Enter your guess:  3\n"
     ]
    },
    {
     "name": "stdout",
     "output_type": "stream",
     "text": [
      "--- False ! Try again ! ---\n",
      " \n",
      "\n",
      "     ------\n",
      "     |    |\n",
      "     |    O\n",
      "     |   -+-\n",
      "     |  /\n",
      "     |   \n",
      "     |   \n",
      "     |   \n",
      "     |   \n",
      "    ----------\n",
      "    \n",
      "Word so far: ---\n",
      "Letters used: ['1', '2', '3']\n"
     ]
    },
    {
     "name": "stdin",
     "output_type": "stream",
     "text": [
      "Enter your guess:  4\n"
     ]
    },
    {
     "name": "stdout",
     "output_type": "stream",
     "text": [
      "--- False ! Try again ! ---\n",
      " \n",
      "\n",
      "     ------\n",
      "     |    |\n",
      "     |    O\n",
      "     |   -+-/\n",
      "     |  /\n",
      "     |   \n",
      "     |   \n",
      "     |   \n",
      "     |   \n",
      "    ----------\n",
      "    \n",
      "Word so far: ---\n",
      "Letters used: ['1', '2', '3', '4']\n"
     ]
    },
    {
     "name": "stdin",
     "output_type": "stream",
     "text": [
      "Enter your guess:  5\n"
     ]
    },
    {
     "name": "stdout",
     "output_type": "stream",
     "text": [
      "--- False ! Try again ! ---\n",
      " \n",
      "\n",
      "     ------\n",
      "     |    |\n",
      "     |    O\n",
      "     |   -+-/\n",
      "     |  / |\n",
      "     |   \n",
      "     |   \n",
      "     |   \n",
      "     |   \n",
      "    ----------\n",
      "    \n",
      "Word so far: ---\n",
      "Letters used: ['1', '2', '3', '4', '5']\n"
     ]
    },
    {
     "name": "stdin",
     "output_type": "stream",
     "text": [
      "Enter your guess:  6\n"
     ]
    },
    {
     "name": "stdout",
     "output_type": "stream",
     "text": [
      "--- False ! Try again ! ---\n",
      " \n",
      "\n",
      "     ------\n",
      "     |    |\n",
      "     |    O\n",
      "     |   -+-/\n",
      "     |  / |\n",
      "     |    |\n",
      "     |   | \n",
      "     |   | \n",
      "     |   \n",
      "    ----------\n",
      "    \n",
      "Word so far: ---\n",
      "Letters used: ['1', '2', '3', '4', '5', '6']\n"
     ]
    },
    {
     "name": "stdin",
     "output_type": "stream",
     "text": [
      "Enter your guess:  7\n"
     ]
    },
    {
     "name": "stdout",
     "output_type": "stream",
     "text": [
      "--- False ! Try again ! ---\n",
      " \n",
      "The word is rat\n",
      "You didn't save the man :( , YOU LOSE ! \n"
     ]
    },
    {
     "name": "stdin",
     "output_type": "stream",
     "text": [
      "Do you want to play again: type no for quitting and yes to play again: no\n"
     ]
    },
    {
     "name": "stdout",
     "output_type": "stream",
     "text": [
      "okay\n",
      "this is a report\n",
      "game plays 2\n",
      "wins 1\n"
     ]
    }
   ],
   "source": [
    "import random \n",
    "\n",
    "#introduction\n",
    "print(''' Welcome to Hangman game\n",
    "You should guess the name of a fruit,a movie or a country to save the man.\n",
    "Let's go !!! ''')\n",
    "\n",
    "#lists of the names of animals, fruits, countries\n",
    "animals = [\"dog\",\"cat\",\"zebra\",\"lion\",\"tiger\",\"snakes\",\"parrot\",\"turtle\",\"fish\",\"cow\",\"giraffe\",\"rat\"]\n",
    "fruits = [\"apple\",\"banana\",\"lemon\",\"strawberry\",\"mango\",\"kiwi\",\"pineapple\"]\n",
    "countries = [\"Lebanon\",\"Egypt\",\"Germany\",\"Brazil\",\"Canada\",\"Australia\", \"France\"]\n",
    "win_count = 0\n",
    "number_of_play = 0\n",
    "def gameplay():\n",
    "    #asking the user for the type of word he/she wants to guess\n",
    "    type_word = input(\"which one do you want to guess (animals/fruits/countries): \").lower()\n",
    "    global word\n",
    "    #choosing a random word from the choosen list\n",
    "    while True:\n",
    "        if type_word == \"fruits\":\n",
    "            word = random.choice(fruits)\n",
    "            break\n",
    "        elif type_word == \"countries\":\n",
    "            word = random.choice(countries).lower()\n",
    "            break\n",
    "        elif type_word == \"animals\":\n",
    "            word = random.choice(animals)\n",
    "            break\n",
    "        else:\n",
    "            print(\"check your spelling and try again!\")\n",
    "            type_word = input(\"which one do you want to guess (animals/fruits/countries): \").lower()\n",
    "        print(\"\")\n",
    "    \n",
    "    #printing the lenght of the word \n",
    "    print(\"It is a word that has \"+ str(len(word)) + \" letters\")\n",
    "    \n",
    "    #shape of the hangman \n",
    "    hangman = [\n",
    "    \"\"\"\n",
    "     ------\n",
    "     |    |\n",
    "     |\n",
    "     |\n",
    "     |\n",
    "     |\n",
    "     |\n",
    "     |\n",
    "     |\n",
    "    ----------\n",
    "    \"\"\",\n",
    "    \"\"\"\n",
    "     ------\n",
    "     |    |\n",
    "     |    O\n",
    "     |\n",
    "     |\n",
    "     |\n",
    "     |\n",
    "     |\n",
    "     |\n",
    "    ----------\n",
    "    \"\"\",\n",
    "    \"\"\"\n",
    "     ------\n",
    "     |    |\n",
    "     |    O\n",
    "     |   -+-\n",
    "     | \n",
    "     |   \n",
    "     |   \n",
    "     |   \n",
    "     |   \n",
    "    ----------\n",
    "    \"\"\",\n",
    "    \"\"\"\n",
    "     ------\n",
    "     |    |\n",
    "     |    O\n",
    "     |   -+-\n",
    "     |  /\n",
    "     |   \n",
    "     |   \n",
    "     |   \n",
    "     |   \n",
    "    ----------\n",
    "    \"\"\",\n",
    "    \"\"\"\n",
    "     ------\n",
    "     |    |\n",
    "     |    O\n",
    "     |   -+-/\n",
    "     |  /\n",
    "     |   \n",
    "     |   \n",
    "     |   \n",
    "     |   \n",
    "    ----------\n",
    "    \"\"\",\n",
    "    \"\"\"\n",
    "     ------\n",
    "     |    |\n",
    "     |    O\n",
    "     |   -+-/\n",
    "     |  / |\n",
    "     |   \n",
    "     |   \n",
    "     |   \n",
    "     |   \n",
    "    ----------\n",
    "    \"\"\",\n",
    "    \"\"\"\n",
    "     ------\n",
    "     |    |\n",
    "     |    O\n",
    "     |   -+-/\n",
    "     |  / |\n",
    "     |    |\n",
    "     |   | \n",
    "     |   | \n",
    "     |   \n",
    "    ----------\n",
    "    \"\"\",\n",
    "    \"\"\"\n",
    "     ------\n",
    "     |    |\n",
    "     |    O\n",
    "     |   -+-/\n",
    "     |  / |\n",
    "     |    |\n",
    "     |   | |\n",
    "     |   | |\n",
    "     |  \n",
    "    ----------\n",
    "    \"\"\"]\n",
    "    global wrong,sofar, max_wrong\n",
    "    # Assuming 'word' and 'hangman' are defined earlier in the code\n",
    "    wrong = 0                          # the number of wrong answers\n",
    "    max_wrong = 7                      # the maximum number of wrong answers\n",
    "    used = []                          # the used letters \n",
    "    so_far = (\"-\") * len(word)        # the current form of the word \n",
    "    \n",
    "    print(\"\")\n",
    "    # answers + \n",
    "    while wrong < max_wrong and so_far != word: \n",
    "        print(\" \")\n",
    "        print(hangman[wrong])                 # drawing the hangman according to the n.b of wrong answers\n",
    "        print(\"Word so far: \" + so_far)       # printing the form of the word\n",
    "        print(\"Letters used: \" + str(used))   # printing the used letters to avoid repeating same answers\n",
    "      \n",
    "        # asking the user to enter a letter\n",
    "        guess = input(\"Enter your guess: \").lower()\n",
    "      \n",
    "        # asking the user to enter another guess if the letter is already used  \n",
    "        while guess in used:\n",
    "            print(\"--- Try again... You've already used this letter ---\")\n",
    "            print(\" \")\n",
    "            guess = input(\"Enter your guess: \").lower()\n",
    "            print(\" \")\n",
    "      \n",
    "        # adding the guessed letters to the \"used\" list of letters\n",
    "        used.append(guess)\n",
    "      \n",
    "        # checking the answer (TRUE/FALSE)\n",
    "        # a true answer\n",
    "        if guess in word:\n",
    "            print(\"--- True ! \" + guess + \" is a letter of the word ---\")\n",
    "            print(\" \")\n",
    "        \n",
    "            # updating the word \n",
    "            new = \"\"        # the current form of the word\n",
    "        \n",
    "            for i in range(len(word)):  # i represents the index(place)\n",
    "                # identify the place(s) of the guessed letter\n",
    "                if guess == word[i]:\n",
    "                    new += guess     # putting the guessed word in its place(s)\n",
    "                else:                   \n",
    "                    new += so_far[i] # putting the old guessed letters in their places + empty places\n",
    "        \n",
    "            # replacing the old word by the current word\n",
    "            so_far = new \n",
    "        \n",
    "        # a wrong guess\n",
    "        else:\n",
    "            print(\"--- False ! Try again ! ---\")\n",
    "            wrong += 1  # adding one to n.b of wrong answers \n",
    "  # losing case\n",
    "gameplay()\n",
    "while True:\n",
    "    if wrong == max_wrong:\n",
    "        print(\" \")\n",
    "        print(\"The word is \" + word)\n",
    "        print(\"You didn't save the man :( , YOU LOSE ! \")\n",
    "        play_again = input(\"Do you want to play again: type no for quitting and yes to play again:\") #ask if player want to play again\n",
    "        number_of_play += 1\n",
    "        if play_again == \"yes\":\n",
    "            gameplay()\n",
    "        elif play_again == \"no\":\n",
    "            print(\"okay\")\n",
    "            print(\"this is a report\")\n",
    "            print(\"game plays\",number_of_play)\n",
    "            print(\"wins\", win_count)\n",
    "            break\n",
    "            \n",
    "                \n",
    "        \n",
    "        # winning case (wrong < max_wrong and so_far == word)\n",
    "    else:\n",
    "        print(\" \")\n",
    "        print(\"Correct ! The word is \" + word)\n",
    "        print(\"You have saved the man :) , YOU WIN !\")\n",
    "        win_count += 1 #count the number of wins\n",
    "        play_again = input(\"Do you want to play again: type no for quitting and yes to play again:\") #ask if player want to play again\n",
    "        number_of_play += 1\n",
    "        if play_again == \"yes\":\n",
    "            gameplay()\n",
    "        elif play_again == \"no\":\n",
    "            print(\"okay\")\n",
    "            print(\"this is a report\")\n",
    "            print(\"game plays\",number_of_play)\n",
    "            print(\"wins\", win_count)\n",
    "            break"
   ]
  }
 ],
 "metadata": {
  "kernelspec": {
   "display_name": "Python 3 (ipykernel)",
   "language": "python",
   "name": "python3"
  },
  "language_info": {
   "codemirror_mode": {
    "name": "ipython",
    "version": 3
   },
   "file_extension": ".py",
   "mimetype": "text/x-python",
   "name": "python",
   "nbconvert_exporter": "python",
   "pygments_lexer": "ipython3",
   "version": "3.12.4"
  }
 },
 "nbformat": 4,
 "nbformat_minor": 5
}
